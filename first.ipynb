{
 "cells": [
  {
   "cell_type": "code",
   "execution_count": 17,
   "metadata": {},
   "outputs": [],
   "source": [
    "import re\n",
    "\n",
    "def validate_travel_details(name, passport_number, phone_number, email, departure_date, payment_method):\n",
    "   \n",
    "    # Validate name (alphabetic characters and spaces)\n",
    "    if not re.match(r\"^[A-Za-z ]+$\", name):\n",
    "        print(\"Invalid name. Please enter only alphabetic characters and spaces.\")\n",
    "        return False\n",
    "\n",
    "    # Validate passport number (alphanumeric and 9 characters)\n",
    "    if not re.match(r\"^[A-Za-z0-9]{9}$\", passport_number):\n",
    "        print(\"Invalid passport number. It should be 9 alphanumeric characters.\")\n",
    "        return False\n",
    "\n",
    "    # Validate phone number (10-digit numeric)\n",
    "    if not re.match(r\"^[0-9]{10}$\", phone_number):\n",
    "        print(\"Invalid phone number. It should be 10 digits.\")\n",
    "        return False\n",
    "\n",
    "    # Validate email address\n",
    "    if not re.match(r\"^[a-zA-Z0-9._-]+@[a-zA-Z0-9._-]+\\.[a-zA-Z0-9]+$\", email):\n",
    "        print(\"Invalid email address.\")\n",
    "        return False\n",
    "\n",
    "    # Validate departure date (dd/mm/yyyy format)\n",
    "    if not re.match(r\"^(0[1-9]|[12][0-9]|3[01])[- /.](0[1-9]|1[012])[- /.](19|20)\\d\\d$\", departure_date):\n",
    "        print(\"Invalid departure date. Please use the format dd/mm/yyyy.\")\n",
    "        return False\n",
    "\n",
    "    # Validate payment method\n",
    "    valid_payment_methods = [\"credit\", \"debit\", \"netbanking\"]\n",
    "    if payment_method not in valid_payment_methods:\n",
    "        print(\"Invalid payment method. Please choose credit, debit, or netbanking.\")\n",
    "        return False\n",
    "\n",
    "    print(\"----------------------------------------------------------------\")\n",
    "    print(\"\\t\\t Welcome to Scam Travels\")\n",
    "    print(\"Name:\", name)\n",
    "    print(\"Passport Number:\", passport_number)\n",
    "    print(\"Phone Number:\", phone_number)\n",
    "    print(\"Email:\", email)\n",
    "    print(\"Departure Date:\", departure_date)\n",
    "    print(\"Payment Method:\", payment_method)\n",
    "    print()\n",
    "    print(\"Travel Details Validated Successfully!\")\n",
    "    print(\"----------------------------------------------------------------\")\n",
    "\n",
    "    \n",
    "        \n",
    "    "
   ]
  },
  {
   "cell_type": "code",
   "execution_count": 16,
   "metadata": {},
   "outputs": [
    {
     "name": "stdout",
     "output_type": "stream",
     "text": [
      "----------------------------------------------------------------\n",
      "\t Welcome to Scam Travels\n",
      "Name: Pranab Rai\n",
      "Passport Number: 123QRW456\n",
      "Phone Number: 9087654321\n",
      "Email: pranab.rai@gmail.com\n",
      "Departure Date: 21/12/2004\n",
      "Payment Method: credit\n",
      "\n",
      "Travel Details Validated Successfully!\n",
      "----------------------------------------------------------------\n"
     ]
    }
   ],
   "source": [
    "validate_travel_details(\"Pranab Rai\", \"123QRW456\", \"9087654321\", \"pranab.rai@gmail.com\", \"21/12/2004\", \"credit\")"
   ]
  },
  {
   "cell_type": "code",
   "execution_count": null,
   "metadata": {},
   "outputs": [],
   "source": []
  }
 ],
 "metadata": {
  "kernelspec": {
   "display_name": "Python 3",
   "language": "python",
   "name": "python3"
  },
  "language_info": {
   "codemirror_mode": {
    "name": "ipython",
    "version": 3
   },
   "file_extension": ".py",
   "mimetype": "text/x-python",
   "name": "python",
   "nbconvert_exporter": "python",
   "pygments_lexer": "ipython3",
   "version": "3.12.4"
  }
 },
 "nbformat": 4,
 "nbformat_minor": 2
}
